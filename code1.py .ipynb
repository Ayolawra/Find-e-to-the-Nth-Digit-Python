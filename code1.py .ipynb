{
 "cells": [
  {
   "cell_type": "code",
   "execution_count": 1,
   "metadata": {},
   "outputs": [
    {
     "name": "stdout",
     "output_type": "stream",
     "text": [
      "Enter number of digit you want after decimal: 3\n",
      "2.718\n"
     ]
    }
   ],
   "source": [
    "\"\"\"Find e to the Nth Digit - Just like the previous problem, but with e instead of PI. \n",
    "Enter a number and have the program generate e up to that many decimal places.\n",
    "Keep a limit to how far the program will go.\"\"\"\n",
    "import math\n",
    "\n",
    "def calculate_e(val):\n",
    "    \n",
    "    some_e = round(math.e, val)\n",
    "    e = str(some_e)\n",
    "    some_list = list(e)\n",
    "    \n",
    "    return some_e\n",
    "\n",
    "round_to = int(input('Enter number of digit you want after decimal: '))\n",
    "\n",
    "try:\n",
    "    round_int = int(round_to);\n",
    "    print(calculate_e(round_int))\n",
    "except:\n",
    "    print( \"You did not enter an integer\")\n",
    "              "
   ]
  },
  {
   "cell_type": "code",
   "execution_count": null,
   "metadata": {},
   "outputs": [],
   "source": []
  }
 ],
 "metadata": {
  "kernelspec": {
   "display_name": "Python 3",
   "language": "python",
   "name": "python3"
  },
  "language_info": {
   "codemirror_mode": {
    "name": "ipython",
    "version": 3
   },
   "file_extension": ".py",
   "mimetype": "text/x-python",
   "name": "python",
   "nbconvert_exporter": "python",
   "pygments_lexer": "ipython3",
   "version": "3.6.6"
  }
 },
 "nbformat": 4,
 "nbformat_minor": 2
}
